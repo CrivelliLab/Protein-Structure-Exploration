{
 "cells": [
  {
   "cell_type": "markdown",
   "metadata": {
    "collapsed": true
   },
   "source": [
    "# Deep Learning Enabeld Protein Structure Exploration\n",
    "\n",
    "Summer VFP Project 2017\n",
    "Updated: 09/25/17\n",
    "\n",
    "Jupyter Notebook of evolving methodology using Python 2.\n",
    "\n",
    "----- \n",
    "\n",
    "## Introduction\n",
    "-----\n",
    "\n",
    "### Protein Folding and Machine Learning\n",
    "\n",
    "- Current approaches: SVMs, random forests, bespoke discriminators, etc.\n",
    "- Motivation for project is to explore an innovative path and leverage the strengths of deep learning to the domain.\n",
    "\n",
    "### A Deep Learning Approach\n",
    "\n",
    "- Convolutional Neural Networks (CNNs) were originally designed for performing feature extraction from 2D images.\n",
    "- How to leverage the power of CNNs to the task of protein scoring and structure prediction, an inherently 3D domain?\n",
    "- Get the 3D spatial data into 2D and a convolutional network can learn and possibly even extract features from the data. \n",
    "\n",
    "## Protein Structural Encoding\n",
    "-----\n",
    "\n",
    "### Space Filling Curves\n",
    "\n",
    "- Space-filling curves map multidimensional data to one dimension while preserving relative locality of data points.\n",
    "\n",
    "### Z-Order Curves\n",
    "\n",
    "- Z-Order Curves...\n",
    "\n",
    "##### 2D Curve Example:"
   ]
  },
  {
   "cell_type": "code",
   "execution_count": null,
   "metadata": {
    "scrolled": false
   },
   "outputs": [],
   "source": [
    "import numpy as np\n",
    "from pylab import *\n",
    "rcParams['figure.figsize'] = (10.0, 8.0)\n",
    "\n",
    "def z_curve_2d(order):\n",
    "    '''\n",
    "    '''\n",
    "    z_curve = []\n",
    "    for i in range(pow(pow(2, order),2)):\n",
    "        x = i\n",
    "        x&= 0x55555555\n",
    "        x = (x ^ (x >> 1)) & 0x33333333\n",
    "        x = (x ^ (x >> 2)) & 0x0f0f0f0f\n",
    "        x = (x ^ (x >> 4)) & 0x00ff00ff\n",
    "        x = (x ^ (x >> 8)) & 0x0000ffff\n",
    "\n",
    "        y = i >> 1\n",
    "        y&= 0x55555555\n",
    "        y = (y ^ (y >> 1)) & 0x33333333\n",
    "        y = (y ^ (y >> 2)) & 0x0f0f0f0f\n",
    "        y = (y ^ (y >> 4)) & 0x00ff00ff\n",
    "        y = (y ^ (y >> 8)) & 0x0000ffff\n",
    "        \n",
    "        z_curve.append([x, y])\n",
    "    \n",
    "    return np.array(z_curve)\n",
    "\n",
    "curve = z_curve_2d(3) # Change to see different order Z-curves\n",
    "\n",
    "# Display Curve\n",
    "colormap = cm.gist_ncar\n",
    "gca().set_color_cycle([colormap(i) for i in np.linspace(0.1, 0.75, len(curve))])\n",
    "for i in range(len(curve)):\n",
    "    plot(curve[i:i+2,0], curve[i:i+2,1])\n",
    "show()"
   ]
  },
  {
   "cell_type": "markdown",
   "metadata": {},
   "source": [
    "##### 3D Curve Example:"
   ]
  },
  {
   "cell_type": "code",
   "execution_count": null,
   "metadata": {
    "scrolled": false
   },
   "outputs": [],
   "source": [
    "from mayavi import mlab\n",
    "mlab.init_notebook(width=600, height=400)\n",
    "\n",
    "def z_curve_3d(order):\n",
    "    '''\n",
    "    '''\n",
    "    z_curve = []\n",
    "    for i in range(pow(pow(2, order),3)):\n",
    "        x = i\n",
    "        x &= 0x09249249\n",
    "        x = (x ^ (x >>  2)) & 0x030c30c3\n",
    "        x = (x ^ (x >>  4)) & 0x0300f00f\n",
    "        x = (x ^ (x >>  8)) & 0xff0000ff\n",
    "        x = (x ^ (x >> 16)) & 0x000003ff\n",
    "\n",
    "        y = i >> 1\n",
    "        y &= 0x09249249\n",
    "        y = (y ^ (y >>  2)) & 0x030c30c3\n",
    "        y = (y ^ (y >>  4)) & 0x0300f00f\n",
    "        y = (y ^ (y >>  8)) & 0xff0000ff\n",
    "        y = (y ^ (y >> 16)) & 0x000003ff\n",
    "        \n",
    "        z = i >> 2\n",
    "        z &= 0x09249249\n",
    "        z = (z ^ (z >>  2)) & 0x030c30c3\n",
    "        z = (z ^ (z >>  4)) & 0x0300f00f\n",
    "        z = (z ^ (z >>  8)) & 0xff0000ff\n",
    "        z = (z ^ (z >> 16)) & 0x000003ff\n",
    "        \n",
    "        z_curve.append([x, y, z])\n",
    "    \n",
    "    return np.array(z_curve)\n",
    "\n",
    "curve = z_curve_3d(3) # Change to see different order Z-curves\n",
    "\n",
    "mlab.clf()\n",
    "curve *= 100 # Scaling in 3D Plot\n",
    "plt = mlab.plot3d(curve[:,0], curve[:,1], curve[:,2], np.arange(len(curve)), tube_radius=2); plt"
   ]
  },
  {
   "cell_type": "markdown",
   "metadata": {},
   "source": [
    "### Hilbert Curves\n",
    "\n",
    "- Hilbert curves ...\n",
    "\n",
    "##### 2D Curve Example:"
   ]
  },
  {
   "cell_type": "code",
   "execution_count": null,
   "metadata": {},
   "outputs": [],
   "source": [
    "def hilbert_curve_2d(order):\n",
    "    '''\n",
    "    '''\n",
    "    def gen_2d(order, x, y, xi, xj, yi, yj, array):\n",
    "        if order == 0:\n",
    "            xx = x + (xi + yi)/2\n",
    "            yy = y + (xj + yj)/2\n",
    "            array.append((xx, yy))\n",
    "        else:\n",
    "            gen_2d(order-1, x, y, yi/2, yj/2, xi/2, xj/2, array)\n",
    "            gen_2d(order-1, x + xi/2, y + xj/2, xi/2, xj/2, yi/2, yj/2, array)\n",
    "            gen_2d(order-1, x + xi/2 + yi/2, y + xj/2 + yj/2, xi/2, xj/2, yi/2, yj/2, array)\n",
    "            gen_2d(order-1, x + xi/2 + yi, y + xj/2 + yj, -yi/2,-yj/2,-xi/2,-xj/2, array)\n",
    "    \n",
    "    n = pow(2, order)\n",
    "    hilbert_curve = []\n",
    "    gen_2d(order, 0, 0, n, 0, 0, n, hilbert_curve)\n",
    "    \n",
    "    return np.array(hilbert_curve)\n",
    "\n",
    "curve = hilbert_curve_2d(4) # Change to see different order hilbert-curves\n",
    "\n",
    "# Display Curve\n",
    "colormap = cm.gist_ncar\n",
    "gca().set_color_cycle([colormap(i) for i in np.linspace(0.1, 0.75, len(curve))])\n",
    "for i in range(len(curve)):\n",
    "    plot(curve[i:i+2,0], curve[i:i+2,1])\n",
    "show()"
   ]
  },
  {
   "cell_type": "markdown",
   "metadata": {},
   "source": [
    "##### 3D Curve Example:"
   ]
  },
  {
   "cell_type": "code",
   "execution_count": null,
   "metadata": {
    "scrolled": false
   },
   "outputs": [],
   "source": [
    "def hilbert_curve_3d(order):\n",
    "    '''\n",
    "    '''\n",
    "    def gen_3d(order, x, y, z, xi, xj, xk, yi, yj, yk, zi, zj, zk, array):\n",
    "        if order == 0:\n",
    "            xx = x + (xi + yi + zi)/3\n",
    "            yy = y + (xj + yj + zj)/3\n",
    "            zz = z + (xk + yk + zk)/3\n",
    "            array.append((xx, yy, zz))\n",
    "        else:\n",
    "            gen_3d(order-1, x, y, z, yi/2, yj/2, yk/2, zi/2, zj/2, zk/2, xi/2, xj/2, xk/2, array)\n",
    "\n",
    "            gen_3d(order-1, x + xi/2, y + xj/2, z + xk/2,  zi/2, zj/2, zk/2, xi/2, xj/2, xk/2,\n",
    "            yi/2, yj/2, yk/2, array)\n",
    "            gen_3d(order-1, x + xi/2 + yi/2, y + xj/2 + yj/2, z + xk/2 + yk/2, zi/2, zj/2, zk/2,\n",
    "            xi/2, xj/2, xk/2, yi/2, yj/2, yk/2, array)\n",
    "            gen_3d(order-1, x + xi/2 + yi, y + xj/2+ yj, z + xk/2 + yk, -xi/2, -xj/2, -xk/2, -yi/2,\n",
    "            -yj/2, -yk/2, zi/2, zj/2, zk/2, array)\n",
    "            gen_3d(order-1, x + xi/2 + yi + zi/2, y + xj/2 + yj + zj/2, z + xk/2 + yk +zk/2, -xi/2,\n",
    "            -xj/2, -xk/2, -yi/2, -yj/2, -yk/2, zi/2, zj/2, zk/2, array)\n",
    "            gen_3d(order-1, x + xi/2 + yi + zi, y + xj/2 + yj + zj, z + xk/2 + yk + zk, -zi/2, -zj/2,\n",
    "            -zk/2, xi/2, xj/2, xk/2, -yi/2, -yj/2, -yk/2, array)\n",
    "            gen_3d(order-1, x + xi/2 + yi/2 + zi, y + xj/2 + yj/2 + zj , z + xk/2 + yk/2 + zk, -zi/2,\n",
    "            -zj/2, -zk/2, xi/2, xj/2, xk/2, -yi/2, -yj/2, -yk/2, array)\n",
    "            gen_3d(order-1, x + xi/2 + zi, y + xj/2 + zj, z + xk/2 + zk, yi/2, yj/2, yk/2, -zi/2, -zj/2,\n",
    "            -zk/2, -xi/2, -xj/2, -xk/2, array)\n",
    "\n",
    "    n = pow(2, order)\n",
    "    hilbert_curve = []\n",
    "    gen_3d(order, 0, 0, 0, n, 0, 0, 0, n, 0, 0, 0, n, hilbert_curve)\n",
    "\n",
    "    return np.array(hilbert_curve)\n",
    "\n",
    "curve = hilbert_curve_3d(3) # Change to see different order Z-curves\n",
    "\n",
    "mlab.clf()\n",
    "curve *= 100 # Scaling in 3D Plot\n",
    "v = mlab.figure(bgcolor=(1.0,1.0,1.0))\n",
    "plt = mlab.plot3d(curve[:,0], curve[:,1], curve[:,2], np.arange(len(curve)), tube_radius=2, figure=v); plt"
   ]
  },
  {
   "cell_type": "markdown",
   "metadata": {},
   "source": [
    "### Encoding 3D to 2D Using Space Filling Curves\n",
    "\n",
    "- Encoding 3D data into 2D will provide...\n",
    "\n",
    "#### Selecting Curve Orders\n",
    "\n",
    "- Selecting curve order such that the 3D space is mapped onto the 2D space in a one to one manner."
   ]
  },
  {
   "cell_type": "code",
   "execution_count": null,
   "metadata": {},
   "outputs": [],
   "source": [
    "def mappable_curve_orders():\n",
    "    '''\n",
    "    '''\n",
    "    print \"3D Order\\t2D Order\\tNumber of Elements\"\n",
    "    for i in range(64):\n",
    "        x = pow(2,i)\n",
    "        sq = np.sqrt(x)\n",
    "        cb = np.cbrt(x)\n",
    "        if sq %1.0 == 0.0 and cb %1.0 == 0.0:\n",
    "            print int(np.log2(cb)), '\\t\\t', int(np.log2(sq)), '\\t\\t', x\n",
    "    \n",
    "    \n",
    "mappable_curve_orders()"
   ]
  },
  {
   "cell_type": "markdown",
   "metadata": {},
   "source": [
    "#### 3D Space Encoding Example:"
   ]
  },
  {
   "cell_type": "code",
   "execution_count": null,
   "metadata": {},
   "outputs": [],
   "source": [
    "def encode_3d_to_2d(array_3d, curve_3d, curve_2d):\n",
    "    '''\n",
    "    '''\n",
    "    # Dimension Reduction Using Space Filling Curves to 2D\n",
    "    s = int(np.sqrt(len(curve_2d)))\n",
    "    array_2d = np.zeros([s,s])\n",
    "    for i in range(len(curve_3d)):\n",
    "        c2d = curve_2d[i]\n",
    "        c3d = curve_3d[i]\n",
    "        array_2d[c2d[0], c2d[1]] = array_3d[c3d[0], c3d[1], c3d[2]]\n",
    "    return array_2d\n",
    "\n",
    "# Generate Curves - change to other curves and mappable orders to see different encodings\n",
    "curve_3d = hilbert_curve_3d(2)\n",
    "curve_2d = hilbert_curve_2d(3)\n",
    "\n",
    "# Generate 3D Space\n",
    "array_3d_ = np.arange(len(curve_3d))\n",
    "s = int(np.cbrt(len(curve_3d)))\n",
    "array_3d = array_3d_.reshape((s,s,s))\n",
    "\n",
    "# Encode 3D Space\n",
    "array_2d = encode_3d_to_2d(array_3d, curve_3d, curve_2d)\n",
    "\n",
    "# Display 3D Space\n",
    "mlab.clf()\n",
    "x, y, z = np.where(array_3d >= 0)\n",
    "plt = mlab.points3d(x, y, z, np.arange(len(curve_3d)),scale_mode='none', mode='cube'); plt\n"
   ]
  },
  {
   "cell_type": "code",
   "execution_count": null,
   "metadata": {},
   "outputs": [],
   "source": [
    "# Display Encoded 3D Space\n",
    "matshow(array_2d, cmap=cm.jet, interpolation='nearest')\n",
    "show()"
   ]
  },
  {
   "cell_type": "markdown",
   "metadata": {},
   "source": [
    "#### Comparing Relative Distance Between Points in 3D Space Versus 2D Encoding\n",
    "\n",
    "- Maintaining relative distance and nearest neighbor ranking between 3D space and 2D encoding..."
   ]
  },
  {
   "cell_type": "code",
   "execution_count": null,
   "metadata": {
    "collapsed": true
   },
   "outputs": [],
   "source": [
    "from numpy.matlib import repmat, repeat\n",
    "\n",
    "def calc_distance_matrix(curve):\n",
    "    '''\n",
    "    '''\n",
    "    curve_size = len(curve)\n",
    "    distMat = sqrt(np.sum((repmat(curve, curve_size, 1) - repeat(curve, curve_size, axis=0))**2, axis=1))\n",
    "    return distMat.reshape((curve_size, curve_size))\n",
    "\n",
    "# Generate Curves - change to other curves and mappable orders to see different distance matrix\n",
    "curve_3d = hilbert_curve_3d(4)\n",
    "curve_2d = hilbert_curve_2d(6)\n",
    "\n",
    "# Calculate Distance Between Points in Curves\n",
    "dist_mat_3d = calc_distance_matrix(curve_3d)\n",
    "dist_mat_2d = calc_distance_matrix(curve_2d)\n",
    "\n",
    "# Display 3D Curve Distance Matrix\n",
    "matshow(dist_mat_3d, cmap=cm.plasma, interpolation='nearest')\n",
    "colorbar()\n",
    "show()"
   ]
  },
  {
   "cell_type": "code",
   "execution_count": null,
   "metadata": {
    "collapsed": true
   },
   "outputs": [],
   "source": [
    "# Display 2D Curve Distance Matrix\n",
    "matshow(dist_mat_2d, cmap=cm.plasma, interpolation='nearest')\n",
    "colorbar()\n",
    "show()"
   ]
  },
  {
   "cell_type": "markdown",
   "metadata": {},
   "source": [
    "### Protein Data Bank Files (PDBs)\n",
    "\n",
    "- Protein structure data is provided in PDB format...\n",
    "- Data includes...\n",
    "\n",
    "#### Parsing PDB File"
   ]
  },
  {
   "cell_type": "code",
   "execution_count": null,
   "metadata": {
    "collapsed": true
   },
   "outputs": [],
   "source": [
    "from prody import *\n",
    "\n",
    "van_der_waal_radii = {  'H' : 1.2, 'C' : 1.7, 'N' : 1.55, 'O' : 1.52, 'S' : 1.8,\n",
    "                        'D' : 1.2, 'F' : 1.47, 'CL' : 1.75, 'BR' : 1.85, 'P' : 1.8,\n",
    "                        'I' : 1.98, '' : 0} # Source:https://physlab.lums.edu.pk/images/f/f6/Franck_ref2.pdf\n",
    "\n",
    "def get_pdb_data(pdb_id, channels):\n",
    "    '''\n",
    "    '''\n",
    "    # Parse PDB File\n",
    "    molecule = parsePDB(fetchPDB(pdb_id, copy=False)).select('protein')\n",
    "\n",
    "    # Set Protein's Center Of Mass At Origin\n",
    "    moveAtoms(molecule, to=np.zeros(3))\n",
    "\n",
    "    # Gather Atom Information\n",
    "    pdb_data = []\n",
    "    for channel in channels:\n",
    "        molecule_channel = molecule.select(channel)\n",
    "        if molecule_channel is not None:\n",
    "            channel_radii = [van_der_waal_radii[k] for k in molecule_channel.getElements()]\n",
    "            channel_radii = np.expand_dims(channel_radii, 1)\n",
    "            channel_coords = molecule_channel.getCoords()\n",
    "            channel_data = np.concatenate([channel_radii, channel_coords], 1)\n",
    "        else: channel_data = np.empty((1,4))\n",
    "        pdb_data.append(channel_data)\n",
    "    pdb_data = np.array(pdb_data)\n",
    "\n",
    "    return pdb_data\n",
    "\n",
    "# Gather PDB Data For Desired Channels\n",
    "channels = ['hydrophobic', 'polar', 'charged']\n",
    "pdb_data = get_pdb_data('1aa9', channels)\n",
    "pdb_data   "
   ]
  },
  {
   "cell_type": "markdown",
   "metadata": {},
   "source": [
    "#### Skeletal Model "
   ]
  },
  {
   "cell_type": "code",
   "execution_count": null,
   "metadata": {
    "collapsed": true
   },
   "outputs": [],
   "source": [
    "from matplotlib.cm import jet\n",
    "\n",
    "def display_skeletal_model(pdb_data):\n",
    "    '''\n",
    "    '''\n",
    "    # Color Mapping\n",
    "    n = len(pdb_data)\n",
    "    cm = [jet(float(i)/n)[:3] for i in range(n)]\n",
    "    \n",
    "    for i in range(n):\n",
    "        \n",
    "        # Coordinate Information\n",
    "        x = pdb_data[i][:,3].astype('float')\n",
    "        y = pdb_data[i][:,2].astype('float')\n",
    "        z = pdb_data[i][:,1].astype('float')\n",
    "        \n",
    "        # Display 3D Skeletal Rendering\n",
    "        c = cm[i]\n",
    "        plt = mlab.points3d(x, y, z, mode=\"sphere\", color=c, scale_factor=0.5)\n",
    "        \n",
    "    return plt\n",
    "    \n",
    "mlab.clf()\n",
    "display_skeletal_model(pdb_data)"
   ]
  },
  {
   "cell_type": "markdown",
   "metadata": {},
   "source": [
    "#### Space Filling Atomic Model"
   ]
  },
  {
   "cell_type": "code",
   "execution_count": null,
   "metadata": {
    "collapsed": true
   },
   "outputs": [],
   "source": [
    "import vtk\n",
    "from tvtk.api import tvtk\n",
    "from tvtk.common import configure_input_data\n",
    "\n",
    "def display_3d_mesh(pdb_data):\n",
    "    '''\n",
    "    '''\n",
    "    # Color Mapping\n",
    "    n = len(pdb_data)\n",
    "    cm = [jet(float(i)/n)[:3] for i in range(n)]\n",
    "    \n",
    "    v = mlab.figure()\n",
    "    for j in range(len(pdb_data)):\n",
    "\n",
    "        # Coordinate, Radius Information\n",
    "        r = pdb_data[j][:,0].astype('float')\n",
    "        x = pdb_data[j][:,1].astype('float')\n",
    "        y = pdb_data[j][:,2].astype('float')\n",
    "        z = pdb_data[j][:,3].astype('float')\n",
    "\n",
    "        # Generate Mesh For Protein\n",
    "        append_filter = vtk.vtkAppendPolyData()\n",
    "        for i in range(len(pdb_data[j])):\n",
    "            input1 = vtk.vtkPolyData()\n",
    "            sphere_source = vtk.vtkSphereSource()\n",
    "            sphere_source.SetCenter(x[i],y[i],z[i])\n",
    "            sphere_source.SetRadius(r[i])\n",
    "            sphere_source.Update()\n",
    "            input1.ShallowCopy(sphere_source.GetOutput())\n",
    "            append_filter.AddInputData(input1)\n",
    "        append_filter.Update()\n",
    "\n",
    "        #  Remove Any Duplicate Points.\n",
    "        clean_filter = vtk.vtkCleanPolyData()\n",
    "        clean_filter.SetInputConnection(append_filter.GetOutputPort())\n",
    "        clean_filter.Update()\n",
    "\n",
    "        # Render Mesh\n",
    "        pd = tvtk.to_tvtk(clean_filter.GetOutput())\n",
    "        sphere_mapper = tvtk.PolyDataMapper()\n",
    "        configure_input_data(sphere_mapper, pd)\n",
    "        c = cm[j]\n",
    "        p = tvtk.Property(opacity=1.0, color=c)\n",
    "        sphere_actor = tvtk.Actor(mapper=sphere_mapper, property=p)\n",
    "        v.scene.add_actor(sphere_actor)\n",
    "\n",
    "    return v\n",
    "    \n",
    "v = display_3d_mesh(pdb_data)\n",
    "v"
   ]
  },
  {
   "cell_type": "code",
   "execution_count": null,
   "metadata": {
    "collapsed": true
   },
   "outputs": [],
   "source": [
    "mlab.clf(v)"
   ]
  },
  {
   "cell_type": "markdown",
   "metadata": {},
   "source": [
    "#### Descretization "
   ]
  },
  {
   "cell_type": "code",
   "execution_count": null,
   "metadata": {
    "collapsed": true
   },
   "outputs": [],
   "source": [
    "def display_3d_array(array_3d):\n",
    "    '''\n",
    "    '''\n",
    "    # Color Mapping\n",
    "    n = len(pdb_data)\n",
    "    cm = [jet(float(i)/n)[:3] for i in range(n)]\n",
    "    \n",
    "    v = mlab.figure()\n",
    "    for j in range(len(array_3d)):\n",
    "\n",
    "        # Coordinate Information\n",
    "        xx, yy, zz = np.where(array_3d[j] >= 1)\n",
    "\n",
    "        # Generate Mesh For Protein\n",
    "        append_filter = vtk.vtkAppendPolyData()\n",
    "        for i in range(len(xx)):\n",
    "            input1 = vtk.vtkPolyData()\n",
    "            voxel_source = vtk.vtkCubeSource()\n",
    "            voxel_source.SetCenter(xx[i],yy[i],zz[i])\n",
    "            voxel_source.SetXLength(1)\n",
    "            voxel_source.SetYLength(1)\n",
    "            voxel_source.SetZLength(1)\n",
    "            voxel_source.Update()\n",
    "            input1.ShallowCopy(voxel_source.GetOutput())\n",
    "            append_filter.AddInputData(input1)\n",
    "        append_filter.Update()\n",
    "\n",
    "        #  Remove Any Duplicate Points.\n",
    "        clean_filter = vtk.vtkCleanPolyData()\n",
    "        clean_filter.SetInputConnection(append_filter.GetOutputPort())\n",
    "        clean_filter.Update()\n",
    "\n",
    "        # Render Mesh\n",
    "        pd = tvtk.to_tvtk(clean_filter.GetOutput())\n",
    "        cube_mapper = tvtk.PolyDataMapper()\n",
    "        configure_input_data(cube_mapper, pd)\n",
    "        c = cm[j]\n",
    "        p = tvtk.Property(opacity=1.0, color=c)\n",
    "        cube_actor = tvtk.Actor(mapper=cube_mapper, property=p)\n",
    "        v.scene.add_actor(cube_actor)\n",
    "    \n",
    "    return v"
   ]
  },
  {
   "cell_type": "markdown",
   "metadata": {},
   "source": [
    "##### Skeletal Model"
   ]
  },
  {
   "cell_type": "code",
   "execution_count": null,
   "metadata": {
    "collapsed": true
   },
   "outputs": [],
   "source": [
    "def gen_skel_voxels(pdb_data, dia, sampling):\n",
    "    '''\n",
    "    '''\n",
    "    pdb_data = pdb_data[:,1:].astype('float')\n",
    "\n",
    "    # Bin x, y, z Coordinates\n",
    "    max_ = dia\n",
    "    min_ = -dia\n",
    "    range_ = max_ - min_\n",
    "    res_ = float(range_) / sampling\n",
    "    bins = [(i*res_) + min_ for i in range(int(range_/res_)+1)]\n",
    "    x_binned = np.digitize(pdb_data[:, 0], bins) - 1\n",
    "    y_binned = np.digitize(pdb_data[:, 1], bins) - 1\n",
    "    z_binned = np.digitize(pdb_data[:, 2], bins) - 1\n",
    "    indices = np.array([x_binned, y_binned, z_binned])\n",
    "    indices = np.transpose(indices, (1, 0))\n",
    "\n",
    "    # Get Unique Indices And Counts\n",
    "    u_indices = {}\n",
    "    for ind in indices:\n",
    "        ind_ = tuple(ind.tolist())\n",
    "        if ind_ in u_indices: u_indices[ind_] += 1\n",
    "        else: u_indices[ind_] = 1\n",
    "\n",
    "    # Generate 3D Array\n",
    "    pdb_vox = np.zeros([int(range_/res_)+1 for i in range(3)])\n",
    "    for ind in u_indices.keys(): pdb_vox[ind[0], ind[1], ind[2]] = 1\n",
    "\n",
    "    return pdb_vox\n",
    "\n",
    "# Discretization Variables\n",
    "dia = 30\n",
    "sampling = 64\n",
    "\n",
    "# Generate Voxels For All Channels\n",
    "pdb_skel_voxels = []\n",
    "for i in range(len(pdb_data)):\n",
    "    channel_voxels = gen_skel_voxels(pdb_data[i], dia, sampling)\n",
    "    pdb_skel_voxels.append(channel_voxels)\n",
    "pdb_skel_voxels = np.array(pdb_skel_voxels)\n",
    "\n",
    "# Display Skeleton Voxel Model\n",
    "v = display_3d_array(pdb_skel_voxels); v"
   ]
  },
  {
   "cell_type": "code",
   "execution_count": null,
   "metadata": {
    "collapsed": true
   },
   "outputs": [],
   "source": [
    "mlab.clf(v)"
   ]
  },
  {
   "cell_type": "markdown",
   "metadata": {},
   "source": [
    "##### Space Filling Atomic Model\n"
   ]
  },
  {
   "cell_type": "code",
   "execution_count": null,
   "metadata": {
    "collapsed": true
   },
   "outputs": [],
   "source": [
    "from scipy import ndimage\n",
    "import vtk.util.numpy_support as vtk_np\n",
    "\n",
    "def gen_mesh_voxels(pdb_data, dia, sampling):\n",
    "    '''\n",
    "    '''\n",
    "    # Coordinate, Radius Information\n",
    "    r = pdb_data[:,0].astype('float')\n",
    "    x = pdb_data[:,1].astype('float')\n",
    "    y = pdb_data[:,2].astype('float')\n",
    "    z = pdb_data[:,3].astype('float')\n",
    "\n",
    "    # Generate Mesh For Protein\n",
    "    append_filter = vtk.vtkAppendPolyData()\n",
    "    for i in range(len(pdb_data)):\n",
    "        input1 = vtk.vtkPolyData()\n",
    "        sphere_source = vtk.vtkSphereSource()\n",
    "        sphere_source.SetCenter(x[i],y[i],z[i])\n",
    "        sphere_source.SetRadius(r[i])\n",
    "        sphere_source.Update()\n",
    "        input1.ShallowCopy(sphere_source.GetOutput())\n",
    "        append_filter.AddInputData(input1)\n",
    "    append_filter.Update()\n",
    "\n",
    "    #  Remove Any Duplicate Points.\n",
    "    clean_filter = vtk.vtkCleanPolyData()\n",
    "    clean_filter.SetInputConnection(append_filter.GetOutputPort())\n",
    "    clean_filter.Update()\n",
    "\n",
    "    # Voxelize Mesh\n",
    "    voxel_modeller = vtk.vtkVoxelModeller()\n",
    "    voxel_modeller.SetInputConnection(clean_filter.GetOutputPort())\n",
    "    voxel_modeller.SetSampleDimensions(sampling, sampling, sampling)\n",
    "    voxel_modeller.SetModelBounds(-dia, dia, -dia, dia, -dia, dia)\n",
    "    voxel_modeller.SetMaximumDistance(0.01)\n",
    "    voxel_modeller.SetScalarTypeToInt()\n",
    "    voxel_modeller.Update()\n",
    "    voxel_output = voxel_modeller.GetOutput().GetPointData().GetScalars()\n",
    "    voxel_array = vtk_np.vtk_to_numpy(voxel_output)\n",
    "    voxel_array = voxel_array.reshape((sampling, sampling, sampling))\n",
    "\n",
    "    # Fill Interiors\n",
    "    filled_voxel_array = []\n",
    "    for sect in voxel_array:\n",
    "        filled_sect = ndimage.morphology.binary_fill_holes(sect).astype('int')\n",
    "        filled_voxel_array.append(filled_sect)\n",
    "    filled_voxel_array = np.array(filled_voxel_array)\n",
    "    filled_voxel_array = np.transpose(filled_voxel_array, (2,1,0))\n",
    "\n",
    "    return filled_voxel_array\n",
    "\n",
    "# Discretization Variables\n",
    "dia = 30\n",
    "sampling = 16\n",
    "\n",
    "# Generate Voxels For All Channels\n",
    "pdb_mesh_voxels = []\n",
    "for i in range(len(pdb_data)):\n",
    "    channel_voxels = gen_mesh_voxels(pdb_data[i], dia, sampling)\n",
    "    pdb_mesh_voxels.append(channel_voxels)\n",
    "pdb_mesh_voxels = np.array(pdb_mesh_voxels)\n",
    "\n",
    "# Display Skeleton Voxel Model\n",
    "v = display_3d_array(pdb_mesh_voxels); v"
   ]
  },
  {
   "cell_type": "code",
   "execution_count": null,
   "metadata": {
    "collapsed": true
   },
   "outputs": [],
   "source": [
    "mlab.clf(v)"
   ]
  },
  {
   "cell_type": "markdown",
   "metadata": {},
   "source": [
    "#### Encoding"
   ]
  },
  {
   "cell_type": "code",
   "execution_count": null,
   "metadata": {
    "collapsed": true
   },
   "outputs": [],
   "source": [
    "from matplotlib.colors import ListedColormap\n",
    "\n",
    "# Generate Curves \n",
    "curve_3d = hilbert_curve_3d(6)\n",
    "curve_2d = hilbert_curve_2d(9)\n",
    "\n",
    "# Set 3D Voxel Array\n",
    "array_3d = pdb_skel_voxels\n",
    "\n",
    "# Encode Skeletal Voxels\n",
    "encoded_pdb = []\n",
    "for i in range(len(array_3d)):\n",
    "    array_2d = encode_3d_to_2d(array_3d[i], curve_3d, curve_2d)\n",
    "    encoded_pdb.append(array_2d)\n",
    "encoded_pdb = np.array(encoded_pdb)\n",
    "\n",
    "# Display 2D Encoding\n",
    "n = len(encoded_pdb)\n",
    "cm = [jet(float(0)/n)[:3] for i in range(n)]\n",
    "for i in range(n):\n",
    "    if i == 0: cmap = ListedColormap([[0,0,0,0.5], cm[i][:3]])\n",
    "    else: cmap = ListedColormap([[0,0,0,0], cm[i][:3]])\n",
    "    imshow(encoded_pdb[i], cmap=cmap, interpolation='nearest')\n",
    "show()"
   ]
  },
  {
   "cell_type": "markdown",
   "metadata": {},
   "source": [
    "##### Space Filling Atomic Model"
   ]
  },
  {
   "cell_type": "code",
   "execution_count": null,
   "metadata": {
    "collapsed": true
   },
   "outputs": [],
   "source": [
    "# Generate Curves \n",
    "curve_3d = hilbert_curve_3d(4)\n",
    "curve_2d = hilbert_curve_2d(6)\n",
    "\n",
    "# Set 3D Voxel Array\n",
    "array_3d = pdb_mesh_voxels\n",
    "\n",
    "# Encode Mesh Voxels\n",
    "encoded_pdb = []\n",
    "for i in range(len(array_3d)):\n",
    "    array_2d = encode_3d_to_2d(array_3d[i], curve_3d, curve_2d)\n",
    "    encoded_pdb.append(array_2d)\n",
    "encoded_pdb = np.array(encoded_pdb)\n",
    "\n",
    "# Display 2D Encoding\n",
    "n = len(encoded_pdb)\n",
    "cm = [jet(float(i)/n)[:3] for i in range(n)]\n",
    "for i in range(n):\n",
    "    if i == 0: cmap = ListedColormap([[0,0,0,0.5], cm[i][:3]])\n",
    "    else: cmap = ListedColormap([[0,0,0,0], cm[i][:3]])\n",
    "    imshow(encoded_pdb[i], cmap=cmap, interpolation='nearest')\n",
    "show()"
   ]
  },
  {
   "cell_type": "markdown",
   "metadata": {},
   "source": [
    "#### Dynamic Bounding [OUTDATED]"
   ]
  },
  {
   "cell_type": "code",
   "execution_count": null,
   "metadata": {
    "collapsed": true
   },
   "outputs": [],
   "source": [
    "# Dynamically Bound According To Diameter of Protein\n",
    "dia = 0\n",
    "for channel in pdb_data:\n",
    "    temp = np.amax(np.abs(channel[:, 1:])) + 2 # PADDING\n",
    "    if temp > dia: dia = temp           \n",
    "sampling = 64\n",
    "print dia\n",
    "\n",
    "# Generate Voxels For All Channels\n",
    "pdb_dyn_voxels = []\n",
    "for i in range(len(pdb_data)):\n",
    "    channel_voxels = gen_skel_voxels(pdb_data[i], dia, sampling)\n",
    "    pdb_dyn_voxels.append(channel_voxels)\n",
    "pdb_dyn_voxels = np.array(pdb_dyn_voxels)\n",
    "\n",
    "# Set 3D Voxel Array\n",
    "array_3d = pdb_dyn_voxels\n",
    "\n",
    "# Encode Voxels\n",
    "encoded_pdb = []\n",
    "for i in range(len(array_3d)):\n",
    "    array_2d = encode_3d_to_2d(array_3d[i], curve_3d, curve_2d)\n",
    "    encoded_pdb.append(array_2d)\n",
    "encoded_pdb = np.array(encoded_pdb)\n",
    "\n",
    "# Display 2D Encoding\n",
    "n = len(encoded_pdb)\n",
    "cm = [jet(float(0)/n)[:3] for i in range(n)]\n",
    "for i in range(n):\n",
    "    if i == 0: cmap = ListedColormap([[0,0,0,0.5], cm[i][:3]])\n",
    "    else: cmap = ListedColormap([[0,0,0,0], cm[i][:3]])\n",
    "    imshow(encoded_pdb[i], cmap=cmap, interpolation='nearest')\n",
    "show()"
   ]
  },
  {
   "cell_type": "markdown",
   "metadata": {},
   "source": [
    "### Data Augmentation\n",
    "\n",
    "- Deep Learning performance increases with the size of data sets... \n",
    "\n",
    "#### Rotations\n",
    "\n",
    "- Provide safe augmentations of data..."
   ]
  },
  {
   "cell_type": "code",
   "execution_count": null,
   "metadata": {
    "collapsed": true
   },
   "outputs": [],
   "source": [
    "def apply_rotation(pdb_data, rotation):\n",
    "    '''\n",
    "    Method applies rotation to pdb_data defined as list of rotation matricies.\n",
    "\n",
    "    '''\n",
    "    if debug:\n",
    "        print \"Applying Rotation...\"\n",
    "        start = time.time()\n",
    "\n",
    "    rotated_pdb_data = []\n",
    "    for i in range(len(pdb_data)):\n",
    "        channel = []\n",
    "        for coord in pdb_data[i]:\n",
    "            temp = np.dot(rotation, coord[1:])\n",
    "            temp = [coord[0], temp[0], temp[1], temp[2]]\n",
    "            channel.append(np.array(temp))\n",
    "        rotated_pdb_data.append(np.array(channel))\n",
    "    rotated_pdb_data = np.array(rotated_pdb_data)\n",
    "\n",
    "    if debug: print time.time() - start, 'secs...'\n",
    "\n",
    "    return rotated_pdb_data\n",
    "\n",
    "def get_rotation_matrix(axis, theta):\n",
    "    '''\n",
    "    Return the rotation matrix associated with counterclockwise rotation about\n",
    "    the given axis by theta radians.\n",
    "\n",
    "    '''\n",
    "    axis = np.asarray(axis)\n",
    "    axis = axis/np.sqrt(np.dot(axis, axis))\n",
    "    a = np.cos(theta/2.0)\n",
    "    b, c, d = -axis*np.sin(theta/2.0)\n",
    "    aa, bb, cc, dd = a*a, b*b, c*c, d*d\n",
    "    bc, ad, ac, ab, bd, cd = b*c, a*d, a*c, a*b, b*d, c*d\n",
    "\n",
    "    rotation_matrix = np.array([[aa+bb-cc-dd, 2*(bc+ad), 2*(bd-ac)],\n",
    "                                [2*(bc-ad), aa+cc-bb-dd, 2*(cd+ab)],\n",
    "                                [2*(bd+ac), 2*(cd-ab), aa+dd-bb-cc]])\n",
    "\n",
    "    return rotation_matrix"
   ]
  }
 ],
 "metadata": {
  "kernelspec": {
   "display_name": "Python 2",
   "language": "python",
   "name": "python2"
  },
  "language_info": {
   "codemirror_mode": {
    "name": "ipython",
    "version": 2
   },
   "file_extension": ".py",
   "mimetype": "text/x-python",
   "name": "python",
   "nbconvert_exporter": "python",
   "pygments_lexer": "ipython2",
   "version": "2.7.13"
  }
 },
 "nbformat": 4,
 "nbformat_minor": 2
}
